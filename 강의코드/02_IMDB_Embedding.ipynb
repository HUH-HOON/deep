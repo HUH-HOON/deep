{
 "cells": [
  {
   "cell_type": "markdown",
   "metadata": {},
   "source": [
    "## RNN 토큰화 처리 & 임베딩"
   ]
  },
  {
   "cell_type": "markdown",
   "metadata": {},
   "source": [
    "### Tokenization 처리"
   ]
  },
  {
   "cell_type": "code",
   "execution_count": 1,
   "metadata": {},
   "outputs": [],
   "source": [
    "import tensorflow as tf\n",
    "from tensorflow.keras.preprocessing.text import Tokenizer\n",
    "from tensorflow.keras.utils import to_categorical"
   ]
  },
  {
   "cell_type": "code",
   "execution_count": 16,
   "metadata": {},
   "outputs": [],
   "source": [
    "# 데이터를 토큰화\n",
    "texts = ['You are very handsome',\n",
    "         'You are very beautiful']\n",
    "\n",
    "tokenizer = Tokenizer(num_words=10, oov_token='<00V>')\n",
    "tokenizer.fit_on_texts(texts)"
   ]
  },
  {
   "cell_type": "code",
   "execution_count": 17,
   "metadata": {},
   "outputs": [],
   "source": [
    "# 텍스트 데이터를 정수 인덱스 형태로 변환\n",
    "sequences = tokenizer.texts_to_sequences(texts)"
   ]
  },
  {
   "cell_type": "code",
   "execution_count": 18,
   "metadata": {},
   "outputs": [
    {
     "data": {
      "text/plain": [
       "[[2, 3, 4, 5], [2, 3, 4, 6]]"
      ]
     },
     "execution_count": 18,
     "metadata": {},
     "output_type": "execute_result"
    }
   ],
   "source": [
    "sequences"
   ]
  },
  {
   "cell_type": "code",
   "execution_count": 19,
   "metadata": {},
   "outputs": [
    {
     "data": {
      "text/plain": [
       "array([[0., 0., 1., 1., 1., 1., 0., 0., 0., 0.],\n",
       "       [0., 0., 1., 1., 1., 0., 1., 0., 0., 0.]])"
      ]
     },
     "execution_count": 19,
     "metadata": {},
     "output_type": "execute_result"
    }
   ],
   "source": [
    "# One-hot-encoding\n",
    "binary = tokenizer.sequences_to_matrix(sequences, mode ='binary')\n",
    "binary"
   ]
  },
  {
   "cell_type": "code",
   "execution_count": 20,
   "metadata": {},
   "outputs": [
    {
     "data": {
      "text/plain": [
       "(2, 10)"
      ]
     },
     "execution_count": 20,
     "metadata": {},
     "output_type": "execute_result"
    }
   ],
   "source": [
    "binary.shape"
   ]
  },
  {
   "cell_type": "code",
   "execution_count": 21,
   "metadata": {},
   "outputs": [
    {
     "data": {
      "text/plain": [
       "{'<00V>': 1, 'you': 2, 'are': 3, 'very': 4, 'handsome': 5, 'beautiful': 6}"
      ]
     },
     "execution_count": 21,
     "metadata": {},
     "output_type": "execute_result"
    }
   ],
   "source": [
    "tokenizer.word_index"
   ]
  },
  {
   "cell_type": "markdown",
   "metadata": {},
   "source": [
    "## IMDB 데이터셋 실습"
   ]
  },
  {
   "cell_type": "markdown",
   "metadata": {},
   "source": [
    "### 데이터 다운받기"
   ]
  },
  {
   "cell_type": "code",
   "execution_count": 24,
   "metadata": {},
   "outputs": [
    {
     "name": "stdout",
     "output_type": "stream",
     "text": [
      "(25000,) (25000,)\n",
      "(25000,) (25000,)\n"
     ]
    }
   ],
   "source": [
    "from tensorflow.keras.datasets import imdb\n",
    "\n",
    "num_words = 10000\n",
    "(X_train, y_train), (X_test, y_test) = imdb.load_data(num_words=num_words)\n",
    "\n",
    "print(X_train.shape, y_train.shape)\n",
    "print(X_test.shape, y_test.shape)"
   ]
  },
  {
   "cell_type": "markdown",
   "metadata": {},
   "source": [
    "### 빈도에 따른 단어를 추출"
   ]
  },
  {
   "cell_type": "code",
   "execution_count": 27,
   "metadata": {},
   "outputs": [
    {
     "name": "stdout",
     "output_type": "stream",
     "text": [
      "1 번째로 사용 빈도가 많은 단어 = the\n",
      "2 번째로 사용 빈도가 많은 단어 = and\n",
      "3 번째로 사용 빈도가 많은 단어 = a\n",
      "4 번째로 사용 빈도가 많은 단어 = of\n",
      "5 번째로 사용 빈도가 많은 단어 = to\n"
     ]
    }
   ],
   "source": [
    "imdb_get_word_index ={}\n",
    "\n",
    "for key, value in imdb.get_word_index().items():\n",
    "    imdb_get_word_index[value] = key\n",
    "    \n",
    "for i in range(1, 6):\n",
    "    print('{} 번째로 사용 빈도가 많은 단어 = {}'.format(i, imdb_get_word_index[i]))\n",
    "    "
   ]
  },
  {
   "cell_type": "markdown",
   "metadata": {},
   "source": [
    "### 데이터를 같은 길이로 맞추기"
   ]
  },
  {
   "cell_type": "code",
   "execution_count": 32,
   "metadata": {},
   "outputs": [
    {
     "name": "stdout",
     "output_type": "stream",
     "text": [
      "pad_sequences 사용 전: 218\n",
      "pad_sequence 사용 후: 500\n"
     ]
    }
   ],
   "source": [
    "from tensorflow.keras.preprocessing.sequence import pad_sequences\n",
    "\n",
    "maxlen = 500\n",
    "print('pad_sequences 사용 전:', len(X_train[0]))\n",
    "\n",
    "pad_X_train = pad_sequences(X_train, maxlen=maxlen, padding='pre')\n",
    "pad_X_test = pad_sequences(X_test, maxlen=maxlen, padding='pre')\n",
    "\n",
    "print('pad_sequence 사용 후:', len(pad_X_train[0]))"
   ]
  },
  {
   "cell_type": "markdown",
   "metadata": {},
   "source": [
    "## Embedding 층으로 모델 만들기"
   ]
  },
  {
   "cell_type": "code",
   "execution_count": 35,
   "metadata": {},
   "outputs": [
    {
     "name": "stdout",
     "output_type": "stream",
     "text": [
      "Model: \"sequential\"\n",
      "_________________________________________________________________\n",
      "Layer (type)                 Output Shape              Param #   \n",
      "=================================================================\n",
      "embedding (Embedding)        (None, 500, 32)           320000    \n",
      "_________________________________________________________________\n",
      "flatten (Flatten)            (None, 16000)             0         \n",
      "_________________________________________________________________\n",
      "dense (Dense)                (None, 1)                 16001     \n",
      "=================================================================\n",
      "Total params: 336,001\n",
      "Trainable params: 336,001\n",
      "Non-trainable params: 0\n",
      "_________________________________________________________________\n"
     ]
    }
   ],
   "source": [
    "from tensorflow.keras.models import Sequential\n",
    "from tensorflow.keras.layers import Dense, Embedding, Flatten\n",
    "\n",
    "model = Sequential([\n",
    "    Embedding(input_dim=num_words, output_dim=32, input_length=maxlen),\n",
    "    Flatten(),\n",
    "    Dense(1, activation='sigmoid')\n",
    "])\n",
    "\n",
    "model.compile(optimizer='adam',\n",
    "              loss='binary_crossentropy',\n",
    "              metrics=['acc'])\n",
    "\n",
    "model.summary()"
   ]
  },
  {
   "cell_type": "code",
   "execution_count": 36,
   "metadata": {},
   "outputs": [
    {
     "name": "stdout",
     "output_type": "stream",
     "text": [
      "Train on 20000 samples, validate on 5000 samples\n",
      "Epoch 1/10\n",
      "20000/20000 [==============================] - 13s 652us/sample - loss: 0.4673 - acc: 0.7684 - val_loss: 0.3024 - val_acc: 0.8766\n",
      "Epoch 2/10\n",
      "20000/20000 [==============================] - 13s 664us/sample - loss: 0.2025 - acc: 0.9264 - val_loss: 0.2745 - val_acc: 0.8888\n",
      "Epoch 3/10\n",
      "20000/20000 [==============================] - 13s 653us/sample - loss: 0.1072 - acc: 0.9692 - val_loss: 0.2912 - val_acc: 0.8842\n",
      "Epoch 4/10\n",
      "20000/20000 [==============================] - 13s 656us/sample - loss: 0.0504 - acc: 0.9909 - val_loss: 0.3122 - val_acc: 0.8886\n",
      "Epoch 5/10\n",
      "20000/20000 [==============================] - 13s 649us/sample - loss: 0.0235 - acc: 0.9974 - val_loss: 0.3342 - val_acc: 0.8838\n",
      "Epoch 6/10\n",
      "20000/20000 [==============================] - 13s 670us/sample - loss: 0.0113 - acc: 0.9997 - val_loss: 0.3597 - val_acc: 0.8826\n",
      "Epoch 7/10\n",
      "20000/20000 [==============================] - 14s 683us/sample - loss: 0.0063 - acc: 0.9998 - val_loss: 0.3812 - val_acc: 0.8814\n",
      "Epoch 8/10\n",
      "20000/20000 [==============================] - 13s 654us/sample - loss: 0.0037 - acc: 0.9999 - val_loss: 0.4042 - val_acc: 0.8810\n",
      "Epoch 9/10\n",
      "20000/20000 [==============================] - 13s 648us/sample - loss: 0.0022 - acc: 1.0000 - val_loss: 0.4279 - val_acc: 0.8796\n",
      "Epoch 10/10\n",
      "20000/20000 [==============================] - 13s 639us/sample - loss: 0.0014 - acc: 1.0000 - val_loss: 0.4445 - val_acc: 0.8826\n"
     ]
    }
   ],
   "source": [
    "history = model.fit(pad_X_train, y_train,\n",
    "                    batch_size=32,\n",
    "                    epochs=10,\n",
    "                    validation_split=0.2)"
   ]
  },
  {
   "cell_type": "code",
   "execution_count": 38,
   "metadata": {},
   "outputs": [
    {
     "name": "stdout",
     "output_type": "stream",
     "text": [
      "25000/1 - 1s - loss: 0.3601 - acc: 0.8726\n"
     ]
    },
    {
     "data": {
      "text/plain": [
       "[0.4562104887187481, 0.8726]"
      ]
     },
     "execution_count": 38,
     "metadata": {},
     "output_type": "execute_result"
    }
   ],
   "source": [
    "model.evaluate(pad_X_test, y_test, verbose=2)"
   ]
  },
  {
   "cell_type": "code",
   "execution_count": null,
   "metadata": {},
   "outputs": [],
   "source": []
  }
 ],
 "metadata": {
  "kernelspec": {
   "display_name": "tf200",
   "language": "python",
   "name": "tf200"
  },
  "language_info": {
   "codemirror_mode": {
    "name": "ipython",
    "version": 3
   },
   "file_extension": ".py",
   "mimetype": "text/x-python",
   "name": "python",
   "nbconvert_exporter": "python",
   "pygments_lexer": "ipython3",
   "version": "3.7.7"
  }
 },
 "nbformat": 4,
 "nbformat_minor": 4
}
