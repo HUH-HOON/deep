{
 "cells": [
  {
   "cell_type": "markdown",
   "metadata": {},
   "source": [
    "## IMDB 긍부정 실습"
   ]
  },
  {
   "cell_type": "code",
   "execution_count": 1,
   "metadata": {},
   "outputs": [
    {
     "name": "stdout",
     "output_type": "stream",
     "text": [
      "2.0.0\n",
      "2.2.4-tf\n"
     ]
    }
   ],
   "source": [
    "import tensorflow as tf\n",
    "from tensorflow import keras\n",
    "\n",
    "print(tf.__version__)\n",
    "print(keras.__version__)"
   ]
  },
  {
   "cell_type": "markdown",
   "metadata": {},
   "source": [
    "### Dataset 불러오기"
   ]
  },
  {
   "cell_type": "code",
   "execution_count": 2,
   "metadata": {},
   "outputs": [
    {
     "name": "stderr",
     "output_type": "stream",
     "text": [
      "/home/miruware/anaconda3/envs/tf200/lib/python3.7/site-packages/tensorflow_core/python/keras/datasets/imdb.py:129: VisibleDeprecationWarning: Creating an ndarray from ragged nested sequences (which is a list-or-tuple of lists-or-tuples-or ndarrays with different lengths or shapes) is deprecated. If you meant to do this, you must specify 'dtype=object' when creating the ndarray\n",
      "  x_train, y_train = np.array(xs[:idx]), np.array(labels[:idx])\n",
      "/home/miruware/anaconda3/envs/tf200/lib/python3.7/site-packages/tensorflow_core/python/keras/datasets/imdb.py:130: VisibleDeprecationWarning: Creating an ndarray from ragged nested sequences (which is a list-or-tuple of lists-or-tuples-or ndarrays with different lengths or shapes) is deprecated. If you meant to do this, you must specify 'dtype=object' when creating the ndarray\n",
      "  x_test, y_test = np.array(xs[idx:]), np.array(labels[idx:])\n"
     ]
    }
   ],
   "source": [
    "from tensorflow.keras.datasets import imdb\n",
    "\n",
    "(train_data, train_labels), (test_data, test_labels) = imdb.load_data(num_words=10000)"
   ]
  },
  {
   "cell_type": "code",
   "execution_count": 3,
   "metadata": {},
   "outputs": [
    {
     "name": "stdout",
     "output_type": "stream",
     "text": [
      "(25000,)\n",
      "(25000,)\n"
     ]
    }
   ],
   "source": [
    "print(train_data.shape)\n",
    "print(test_data.shape)"
   ]
  },
  {
   "cell_type": "code",
   "execution_count": 4,
   "metadata": {},
   "outputs": [
    {
     "data": {
      "text/plain": [
       "0"
      ]
     },
     "execution_count": 4,
     "metadata": {},
     "output_type": "execute_result"
    }
   ],
   "source": [
    "train_labels[1]"
   ]
  },
  {
   "cell_type": "markdown",
   "metadata": {},
   "source": [
    "### 데이터 탐색"
   ]
  },
  {
   "cell_type": "code",
   "execution_count": 5,
   "metadata": {},
   "outputs": [],
   "source": [
    "word_index = imdb.get_word_index()"
   ]
  },
  {
   "cell_type": "code",
   "execution_count": 6,
   "metadata": {},
   "outputs": [],
   "source": [
    "reverse_word_index = dict([(value, key) for (key, value) in word_index.items()])"
   ]
  },
  {
   "cell_type": "code",
   "execution_count": 7,
   "metadata": {},
   "outputs": [
    {
     "data": {
      "text/plain": [
       "\"? this film was just brilliant casting location scenery story direction everyone's really suited the part they played and you could just imagine being there robert ? is an amazing actor and now the same being director ? father came from the same scottish island as myself so i loved the fact there was a real connection with this film the witty remarks throughout the film were great it was just brilliant so much that i bought the film as soon as it was released for ? and would recommend it to everyone to watch and the fly fishing was amazing really cried at the end it was so sad and you know what they say if you cry at a film it must have been good and this definitely was also ? to the two little boy's that played the ? of norman and paul they were just brilliant children are often left out of the ? list i think because the stars that play them all grown up are such a big profile for the whole film but these children are amazing and should be praised for what they have done don't you think the whole story was so lovely because it was true and was someone's life after all that was shared with us all\""
      ]
     },
     "execution_count": 7,
     "metadata": {},
     "output_type": "execute_result"
    }
   ],
   "source": [
    "decode_review = ' '.join([reverse_word_index.get(i - 3, \n",
    "                                                 '?') for i in train_data[0]])\n",
    "decode_review"
   ]
  },
  {
   "cell_type": "markdown",
   "metadata": {},
   "source": [
    "## 입력 데이터 준비"
   ]
  },
  {
   "cell_type": "code",
   "execution_count": 8,
   "metadata": {},
   "outputs": [],
   "source": [
    "import numpy as np"
   ]
  },
  {
   "cell_type": "code",
   "execution_count": 9,
   "metadata": {},
   "outputs": [],
   "source": [
    "def vectorize_sequences(sequences, dimension=10000):\n",
    "    # 크기가 (len(sequences), dimension)이고 원소가 0인 행렬을 만들어준다\n",
    "    results = np.zeros((len(sequences), dimension))\n",
    "    \n",
    "    for i, sequence in enumerate(sequences):\n",
    "        results[i, sequence] = 1. # result[i]에서 특정 인덱스 위치를 1로 만들어준다.\n",
    "    return results"
   ]
  },
  {
   "cell_type": "code",
   "execution_count": 10,
   "metadata": {},
   "outputs": [],
   "source": [
    "x_train = vectorize_sequences(train_data)\n",
    "x_test = vectorize_sequences(test_data)"
   ]
  },
  {
   "cell_type": "code",
   "execution_count": 11,
   "metadata": {},
   "outputs": [
    {
     "name": "stdout",
     "output_type": "stream",
     "text": [
      "(25000, 10000)\n",
      "(25000, 10000)\n"
     ]
    }
   ],
   "source": [
    "print(x_train.shape)\n",
    "print(x_test.shape)"
   ]
  },
  {
   "cell_type": "code",
   "execution_count": 12,
   "metadata": {},
   "outputs": [],
   "source": [
    "y_train = np.asarray(train_labels).astype('float32')\n",
    "y_test = np.asarray(test_labels).astype('float32')"
   ]
  },
  {
   "cell_type": "code",
   "execution_count": 13,
   "metadata": {},
   "outputs": [
    {
     "name": "stdout",
     "output_type": "stream",
     "text": [
      "(25000,)\n",
      "(25000,)\n"
     ]
    }
   ],
   "source": [
    "print(y_train.shape)\n",
    "print(y_test.shape)"
   ]
  },
  {
   "cell_type": "markdown",
   "metadata": {},
   "source": [
    "## 신경망 모델 만들기"
   ]
  },
  {
   "cell_type": "code",
   "execution_count": 14,
   "metadata": {},
   "outputs": [],
   "source": [
    "from tensorflow.keras import models\n",
    "from tensorflow.keras import layers\n",
    "\n",
    "model = models.Sequential()\n",
    "model.add(layers.Dense(16, activation='relu', input_shape=(10000,)))\n",
    "model.add(layers.Dense(16, activation='relu'))\n",
    "model.add(layers.Dense(1, activation='sigmoid'))"
   ]
  },
  {
   "cell_type": "code",
   "execution_count": 15,
   "metadata": {},
   "outputs": [],
   "source": [
    "model = models.Sequential([\n",
    "    layers.Dense(16, activation='relu', input_shape=(10000,)),\n",
    "    layers.Dense(16, activation='relu'),\n",
    "    layers.Dense(1, activation='sigmoid')\n",
    "])"
   ]
  },
  {
   "cell_type": "code",
   "execution_count": 16,
   "metadata": {},
   "outputs": [],
   "source": [
    "model = tf.keras.models.Sequential()\n",
    "model.add(tf.keras.layers.Dense(16, activation='relu', input_shape=(10000,)))\n",
    "model.add(tf.keras.layers.Dense(16, activation='relu'))\n",
    "model.add(tf.keras.layers.Dense(1, activation='sigmoid'))"
   ]
  },
  {
   "cell_type": "code",
   "execution_count": 17,
   "metadata": {},
   "outputs": [],
   "source": [
    "model = tf.keras.models.Sequential([\n",
    "    tf.keras.layers.Dense(16, activation='relu', input_shape=(10000,)),\n",
    "    tf.keras.layers.Dense(16, activation='relu'),\n",
    "    tf.keras.layers.Dense(1, activation='sigmoid')\n",
    "])"
   ]
  },
  {
   "cell_type": "code",
   "execution_count": 18,
   "metadata": {},
   "outputs": [],
   "source": [
    "model.compile(optimizer='rmsprop',\n",
    "             loss='binary_crossentropy',\n",
    "             metrics=['accuracy'])"
   ]
  },
  {
   "cell_type": "code",
   "execution_count": 19,
   "metadata": {},
   "outputs": [],
   "source": [
    "model.compile(tf.keras.optimizers.RMSprop(lr=0.001),\n",
    "             loss='binary_crossentropy',\n",
    "             metrics=['accuracy'])"
   ]
  },
  {
   "cell_type": "code",
   "execution_count": 20,
   "metadata": {},
   "outputs": [],
   "source": [
    "x_val = x_train[:10000]\n",
    "partial_x_train = x_train[10000:]\n",
    "\n",
    "y_val = y_train[:10000]\n",
    "partial_y_train = y_train[10000:]"
   ]
  },
  {
   "cell_type": "code",
   "execution_count": 21,
   "metadata": {},
   "outputs": [
    {
     "name": "stdout",
     "output_type": "stream",
     "text": [
      "Train on 15000 samples, validate on 10000 samples\n",
      "Epoch 1/20\n",
      "15000/15000 [==============================] - 5s 320us/sample - loss: 0.3572 - accuracy: 0.8539 - val_loss: 0.2800 - val_accuracy: 0.8901\n",
      "Epoch 2/20\n",
      "15000/15000 [==============================] - 4s 236us/sample - loss: 0.2014 - accuracy: 0.9237 - val_loss: 0.2906 - val_accuracy: 0.8856\n",
      "Epoch 3/20\n",
      "15000/15000 [==============================] - 4s 247us/sample - loss: 0.1521 - accuracy: 0.9425 - val_loss: 0.3459 - val_accuracy: 0.8749\n",
      "Epoch 4/20\n",
      "15000/15000 [==============================] - 4s 263us/sample - loss: 0.1215 - accuracy: 0.9566 - val_loss: 0.3887 - val_accuracy: 0.8758\n",
      "Epoch 5/20\n",
      "15000/15000 [==============================] - 3s 230us/sample - loss: 0.0957 - accuracy: 0.9662 - val_loss: 0.4082 - val_accuracy: 0.8757\n",
      "Epoch 6/20\n",
      "15000/15000 [==============================] - 3s 227us/sample - loss: 0.0756 - accuracy: 0.9735 - val_loss: 0.4683 - val_accuracy: 0.8746\n",
      "Epoch 7/20\n",
      "15000/15000 [==============================] - 4s 242us/sample - loss: 0.0600 - accuracy: 0.9791 - val_loss: 0.5274 - val_accuracy: 0.8696\n",
      "Epoch 8/20\n",
      "15000/15000 [==============================] - 3s 233us/sample - loss: 0.0422 - accuracy: 0.9855 - val_loss: 0.6289 - val_accuracy: 0.8626\n",
      "Epoch 9/20\n",
      "15000/15000 [==============================] - 3s 232us/sample - loss: 0.0295 - accuracy: 0.9902 - val_loss: 0.7078 - val_accuracy: 0.8648\n",
      "Epoch 10/20\n",
      "15000/15000 [==============================] - 4s 239us/sample - loss: 0.0195 - accuracy: 0.9937 - val_loss: 0.8718 - val_accuracy: 0.8576\n",
      "Epoch 11/20\n",
      "15000/15000 [==============================] - 3s 225us/sample - loss: 0.0126 - accuracy: 0.9961 - val_loss: 0.9784 - val_accuracy: 0.8650\n",
      "Epoch 12/20\n",
      "15000/15000 [==============================] - 4s 237us/sample - loss: 0.0070 - accuracy: 0.9983 - val_loss: 1.1492 - val_accuracy: 0.8624\n",
      "Epoch 13/20\n",
      "15000/15000 [==============================] - 3s 230us/sample - loss: 0.0037 - accuracy: 0.9993 - val_loss: 1.3567 - val_accuracy: 0.8577\n",
      "Epoch 14/20\n",
      "15000/15000 [==============================] - 3s 218us/sample - loss: 0.0019 - accuracy: 0.9996 - val_loss: 1.5267 - val_accuracy: 0.8591\n",
      "Epoch 15/20\n",
      "15000/15000 [==============================] - 3s 227us/sample - loss: 0.0015 - accuracy: 0.9997 - val_loss: 1.7201 - val_accuracy: 0.8602\n",
      "Epoch 16/20\n",
      "15000/15000 [==============================] - 3s 227us/sample - loss: 7.4754e-04 - accuracy: 0.9998 - val_loss: 1.9178 - val_accuracy: 0.8615\n",
      "Epoch 17/20\n",
      "15000/15000 [==============================] - 3s 231us/sample - loss: 5.4946e-04 - accuracy: 0.9999 - val_loss: 2.0878 - val_accuracy: 0.8599\n",
      "Epoch 18/20\n",
      "15000/15000 [==============================] - 3s 228us/sample - loss: 3.1432e-04 - accuracy: 0.9999 - val_loss: 2.2369 - val_accuracy: 0.8632\n",
      "Epoch 19/20\n",
      "15000/15000 [==============================] - 3s 223us/sample - loss: 2.1965e-04 - accuracy: 0.9999 - val_loss: 2.3746 - val_accuracy: 0.8618\n",
      "Epoch 20/20\n",
      "15000/15000 [==============================] - 3s 227us/sample - loss: 5.1584e-05 - accuracy: 1.0000 - val_loss: 2.5626 - val_accuracy: 0.8614\n"
     ]
    }
   ],
   "source": [
    "history = model.fit(partial_x_train,\n",
    "                    partial_y_train,\n",
    "                    epochs=20,\n",
    "                    batch_size=50,\n",
    "                    validation_data=(x_val, y_val))"
   ]
  },
  {
   "cell_type": "code",
   "execution_count": 22,
   "metadata": {},
   "outputs": [],
   "source": [
    "import matplotlib.pyplot as plt"
   ]
  },
  {
   "cell_type": "code",
   "execution_count": 23,
   "metadata": {},
   "outputs": [
    {
     "data": {
      "image/png": "[encoded data removed]",
      "text/plain": [
       "<Figure size 432x288 with 1 Axes>"
      ]
     },
     "metadata": {
      "needs_background": "light"
     },
     "output_type": "display_data"
    }
   ],
   "source": [
    "acc = history.history['accuracy']\n",
    "val_acc = history.history['val_accuracy']\n",
    "loss = history.history['loss']\n",
    "val_loss = history.history['val_loss']\n",
    "\n",
    "epochs = range(1, len(acc) + 1)\n",
    "\n",
    "plt.plot(epochs, loss, 'bo', label='Training_loss')\n",
    "plt.plot(epochs, val_loss, 'b', label='Val_loss')\n",
    "\n",
    "plt.xlabel('Epochs')\n",
    "plt.ylabel('Loss')\n",
    "plt.legend()\n",
    "plt.show()"
   ]
  },
  {
   "cell_type": "code",
   "execution_count": 24,
   "metadata": {},
   "outputs": [
    {
     "data": {
      "image/png": "[encoded data removed]",
      "text/plain": [
       "<Figure size 432x288 with 1 Axes>"
      ]
     },
     "metadata": {
      "needs_background": "light"
     },
     "output_type": "display_data"
    }
   ],
   "source": [
    "plt.plot(epochs, acc, 'bo', label='Training_acc')\n",
    "plt.plot(epochs, val_acc, 'b', label='Val_acc')\n",
    "\n",
    "plt.xlabel('Epochs')\n",
    "plt.ylabel('Accuracy')\n",
    "plt.legend()\n",
    "plt.show()"
   ]
  },
  {
   "cell_type": "markdown",
   "metadata": {},
   "source": [
    "## 적은 층, 많은 층 모델 빌드"
   ]
  },
  {
   "cell_type": "code",
   "execution_count": 25,
   "metadata": {},
   "outputs": [
    {
     "name": "stdout",
     "output_type": "stream",
     "text": [
      "Train on 15000 samples, validate on 10000 samples\n",
      "Epoch 1/20\n",
      "15000/15000 [==============================] - 4s 288us/sample - loss: 0.5432 - accuracy: 0.7895 - val_loss: 0.4377 - val_accuracy: 0.8739\n",
      "Epoch 2/20\n",
      "15000/15000 [==============================] - 3s 223us/sample - loss: 0.2952 - accuracy: 0.9061 - val_loss: 0.2911 - val_accuracy: 0.8840\n",
      "Epoch 3/20\n",
      "15000/15000 [==============================] - 3s 228us/sample - loss: 0.1922 - accuracy: 0.9317 - val_loss: 0.2943 - val_accuracy: 0.8851\n",
      "Epoch 4/20\n",
      "15000/15000 [==============================] - 3s 232us/sample - loss: 0.1544 - accuracy: 0.9477 - val_loss: 0.3057 - val_accuracy: 0.8825\n",
      "Epoch 5/20\n",
      "15000/15000 [==============================] - 3s 224us/sample - loss: 0.1291 - accuracy: 0.9573 - val_loss: 0.3237 - val_accuracy: 0.8839\n",
      "Epoch 6/20\n",
      "15000/15000 [==============================] - 3s 224us/sample - loss: 0.1105 - accuracy: 0.9635 - val_loss: 0.3489 - val_accuracy: 0.8799\n",
      "Epoch 7/20\n",
      "15000/15000 [==============================] - 3s 228us/sample - loss: 0.0962 - accuracy: 0.9691 - val_loss: 0.3702 - val_accuracy: 0.8795\n",
      "Epoch 8/20\n",
      "15000/15000 [==============================] - 3s 231us/sample - loss: 0.0836 - accuracy: 0.9730 - val_loss: 0.3978 - val_accuracy: 0.8782\n",
      "Epoch 9/20\n",
      "15000/15000 [==============================] - 3s 229us/sample - loss: 0.0728 - accuracy: 0.9771 - val_loss: 0.4320 - val_accuracy: 0.8755\n",
      "Epoch 10/20\n",
      "15000/15000 [==============================] - 3s 223us/sample - loss: 0.0645 - accuracy: 0.9792 - val_loss: 0.4540 - val_accuracy: 0.8751\n",
      "Epoch 11/20\n",
      "15000/15000 [==============================] - 3s 226us/sample - loss: 0.0567 - accuracy: 0.9835 - val_loss: 0.4892 - val_accuracy: 0.8697\n",
      "Epoch 12/20\n",
      "15000/15000 [==============================] - 3s 229us/sample - loss: 0.0502 - accuracy: 0.9841 - val_loss: 0.5358 - val_accuracy: 0.8718\n",
      "Epoch 13/20\n",
      "15000/15000 [==============================] - 4s 243us/sample - loss: 0.0440 - accuracy: 0.9865 - val_loss: 0.5617 - val_accuracy: 0.8673\n",
      "Epoch 14/20\n",
      "15000/15000 [==============================] - 4s 235us/sample - loss: 0.0393 - accuracy: 0.9880 - val_loss: 0.6008 - val_accuracy: 0.8692\n",
      "Epoch 15/20\n",
      "15000/15000 [==============================] - 3s 224us/sample - loss: 0.0356 - accuracy: 0.9895 - val_loss: 0.6414 - val_accuracy: 0.8654\n",
      "Epoch 16/20\n",
      "15000/15000 [==============================] - 3s 229us/sample - loss: 0.0321 - accuracy: 0.9909 - val_loss: 0.6759 - val_accuracy: 0.8664\n",
      "Epoch 17/20\n",
      "15000/15000 [==============================] - 3s 225us/sample - loss: 0.0293 - accuracy: 0.9917 - val_loss: 0.7098 - val_accuracy: 0.8658\n",
      "Epoch 18/20\n",
      "15000/15000 [==============================] - 3s 221us/sample - loss: 0.0271 - accuracy: 0.9921 - val_loss: 0.7619 - val_accuracy: 0.8632\n",
      "Epoch 19/20\n",
      "15000/15000 [==============================] - 3s 224us/sample - loss: 0.0235 - accuracy: 0.9931 - val_loss: 0.8097 - val_accuracy: 0.8588\n",
      "Epoch 20/20\n",
      "15000/15000 [==============================] - 3s 226us/sample - loss: 0.0227 - accuracy: 0.9931 - val_loss: 0.8725 - val_accuracy: 0.8642\n"
     ]
    }
   ],
   "source": [
    "from tensorflow.keras import models\n",
    "from tensorflow.keras import layers\n",
    "\n",
    "model_small = models.Sequential([\n",
    "    layers.Dense(4, activation='relu', input_shape=(10000,)),\n",
    "    layers.Dense(4, activation='relu'),\n",
    "    layers.Dense(1, activation='sigmoid')\n",
    "])\n",
    "\n",
    "model_small.compile(optimizer='rmsprop',\n",
    "             loss='binary_crossentropy',\n",
    "             metrics=['accuracy'])\n",
    "\n",
    "history_small = model_small.fit(partial_x_train,\n",
    "                    partial_y_train,\n",
    "                    epochs=20,\n",
    "                    batch_size=50,\n",
    "                    validation_data=(x_val, y_val))"
   ]
  },
  {
   "cell_type": "code",
   "execution_count": 26,
   "metadata": {},
   "outputs": [
    {
     "name": "stdout",
     "output_type": "stream",
     "text": [
      "Train on 15000 samples, validate on 10000 samples\n",
      "Epoch 1/20\n",
      "15000/15000 [==============================] - 4s 239us/sample - loss: 0.0204 - accuracy: 0.9941 - val_loss: 0.8918 - val_accuracy: 0.8576\n",
      "Epoch 2/20\n",
      "15000/15000 [==============================] - 4s 234us/sample - loss: 0.0178 - accuracy: 0.9950 - val_loss: 0.9392 - val_accuracy: 0.8565\n",
      "Epoch 3/20\n",
      "15000/15000 [==============================] - 3s 231us/sample - loss: 0.0161 - accuracy: 0.9956 - val_loss: 0.9950 - val_accuracy: 0.8576\n",
      "Epoch 4/20\n",
      "15000/15000 [==============================] - 3s 232us/sample - loss: 0.0149 - accuracy: 0.9958 - val_loss: 1.0467 - val_accuracy: 0.8561\n",
      "Epoch 5/20\n",
      "15000/15000 [==============================] - 3s 231us/sample - loss: 0.0139 - accuracy: 0.9957 - val_loss: 1.1316 - val_accuracy: 0.8578\n",
      "Epoch 6/20\n",
      "15000/15000 [==============================] - 4s 235us/sample - loss: 0.0129 - accuracy: 0.9961 - val_loss: 1.1805 - val_accuracy: 0.8561\n",
      "Epoch 7/20\n",
      "15000/15000 [==============================] - 4s 246us/sample - loss: 0.0122 - accuracy: 0.9964 - val_loss: 1.2452 - val_accuracy: 0.8525\n",
      "Epoch 8/20\n",
      "15000/15000 [==============================] - 4s 248us/sample - loss: 0.0116 - accuracy: 0.9960 - val_loss: 1.3140 - val_accuracy: 0.8541\n",
      "Epoch 9/20\n",
      "15000/15000 [==============================] - 4s 236us/sample - loss: 0.0101 - accuracy: 0.9967 - val_loss: 1.3752 - val_accuracy: 0.8543\n",
      "Epoch 10/20\n",
      "15000/15000 [==============================] - 3s 227us/sample - loss: 0.0097 - accuracy: 0.9969 - val_loss: 1.4423 - val_accuracy: 0.8498\n",
      "Epoch 11/20\n",
      "15000/15000 [==============================] - 3s 223us/sample - loss: 0.0086 - accuracy: 0.9968 - val_loss: 1.5141 - val_accuracy: 0.8482\n",
      "Epoch 12/20\n",
      "15000/15000 [==============================] - 4s 234us/sample - loss: 0.0080 - accuracy: 0.9970 - val_loss: 1.6092 - val_accuracy: 0.8509\n",
      "Epoch 13/20\n",
      "15000/15000 [==============================] - 3s 226us/sample - loss: 0.0082 - accuracy: 0.9970 - val_loss: 1.6566 - val_accuracy: 0.8496\n",
      "Epoch 14/20\n",
      "15000/15000 [==============================] - 3s 230us/sample - loss: 0.0070 - accuracy: 0.9973 - val_loss: 1.7743 - val_accuracy: 0.8472\n",
      "Epoch 15/20\n",
      "15000/15000 [==============================] - 3s 223us/sample - loss: 0.0067 - accuracy: 0.9973 - val_loss: 1.8092 - val_accuracy: 0.8490\n",
      "Epoch 16/20\n",
      "15000/15000 [==============================] - 3s 225us/sample - loss: 0.0059 - accuracy: 0.9978 - val_loss: 1.8749 - val_accuracy: 0.8500\n",
      "Epoch 17/20\n",
      "15000/15000 [==============================] - 3s 225us/sample - loss: 0.0049 - accuracy: 0.9979 - val_loss: 1.9512 - val_accuracy: 0.8507\n",
      "Epoch 18/20\n",
      "15000/15000 [==============================] - 3s 231us/sample - loss: 0.0049 - accuracy: 0.9983 - val_loss: 2.0183 - val_accuracy: 0.8514\n",
      "Epoch 19/20\n",
      "15000/15000 [==============================] - 3s 226us/sample - loss: 0.0040 - accuracy: 0.9986 - val_loss: 2.1259 - val_accuracy: 0.8497\n",
      "Epoch 20/20\n",
      "15000/15000 [==============================] - 3s 224us/sample - loss: 0.0036 - accuracy: 0.9987 - val_loss: 2.2393 - val_accuracy: 0.8484\n"
     ]
    }
   ],
   "source": [
    "from tensorflow.keras import models\n",
    "from tensorflow.keras import layers\n",
    "\n",
    "model_big = models.Sequential([\n",
    "    layers.Dense(128, activation='relu', input_shape=(10000,)),\n",
    "    layers.Dense(128, activation='relu'),\n",
    "    layers.Dense(1, activation='sigmoid')\n",
    "])\n",
    "\n",
    "model_big.compile(optimizer='rmsprop',\n",
    "             loss='binary_crossentropy',\n",
    "             metrics=['accuracy'])\n",
    "\n",
    "history_big = model_small.fit(partial_x_train,\n",
    "                    partial_y_train,\n",
    "                    epochs=20,\n",
    "                    batch_size=50,\n",
    "                    validation_data=(x_val, y_val))"
   ]
  },
  {
   "cell_type": "code",
   "execution_count": 27,
   "metadata": {},
   "outputs": [],
   "source": [
    "acc = history.history['accuracy']\n",
    "val_acc = history.history['val_accuracy']\n",
    "loss = history.history['loss']\n",
    "val_loss = history.history['val_loss']\n",
    "\n",
    "acc_small = history_small.history['accuracy']\n",
    "val_acc_small = history_small.history['val_accuracy']\n",
    "loss_small = history_small.history['loss']\n",
    "val_loss_small = history_small.history['val_loss']\n",
    "\n",
    "acc_big = history_big.history['accuracy']\n",
    "val_acc_big = history_big.history['val_accuracy']\n",
    "loss_big = history_big.history['loss']\n",
    "val_loss_big = history_big.history['val_loss']\n",
    "\n",
    "epochs = range(1, len(acc) + 1)"
   ]
  },
  {
   "cell_type": "code",
   "execution_count": 28,
   "metadata": {},
   "outputs": [
    {
     "data": {
      "image/png": "[encoded data removed]",
      "text/plain": [
       "<Figure size 432x288 with 1 Axes>"
      ]
     },
     "metadata": {
      "needs_background": "light"
     },
     "output_type": "display_data"
    }
   ],
   "source": [
    "import matplotlib.pyplot as plt\n",
    "\n",
    "plt.plot(epochs, acc, 'bo', label='Train_acc')\n",
    "plt.plot(epochs, acc_small, 'b--', label='Train_acc_small')\n",
    "plt.plot(epochs, acc_big, 'b', label='Train_acc_big')\n",
    "\n",
    "plt.xlabel('Epochs')\n",
    "plt.ylabel('Accuracy')\n",
    "plt.legend()\n",
    "plt.show()"
   ]
  },
  {
   "cell_type": "code",
   "execution_count": 29,
   "metadata": {},
   "outputs": [
    {
     "data": {
      "image/png": "[encoded data removed]",
      "text/plain": [
       "<Figure size 432x288 with 1 Axes>"
      ]
     },
     "metadata": {
      "needs_background": "light"
     },
     "output_type": "display_data"
    }
   ],
   "source": [
    "import matplotlib.pyplot as plt\n",
    "\n",
    "plt.plot(epochs, val_acc, 'bo', label='Train_acc')\n",
    "plt.plot(epochs, val_acc_small, 'b--', label='Train_acc_small')\n",
    "plt.plot(epochs, val_acc_big, 'b', label='Train_acc_big')\n",
    "\n",
    "plt.xlabel('Epochs')\n",
    "plt.ylabel('Accuracy')\n",
    "plt.legend()\n",
    "plt.show()"
   ]
  },
  {
   "cell_type": "code",
   "execution_count": 30,
   "metadata": {},
   "outputs": [
    {
     "data": {
      "image/png": "[encoded data removed]",
      "text/plain": [
       "<Figure size 432x288 with 1 Axes>"
      ]
     },
     "metadata": {
      "needs_background": "light"
     },
     "output_type": "display_data"
    }
   ],
   "source": [
    "import matplotlib.pyplot as plt\n",
    "\n",
    "plt.plot(epochs, loss, 'bo', label='Train_acc')\n",
    "plt.plot(epochs, loss_small, 'b--', label='Train_acc_small')\n",
    "plt.plot(epochs, loss_big, 'b', label='Train_acc_big')\n",
    "\n",
    "plt.xlabel('Epochs')\n",
    "plt.ylabel('Accuracy')\n",
    "plt.legend()\n",
    "plt.show()"
   ]
  },
  {
   "cell_type": "markdown",
   "metadata": {},
   "source": [
    "## L1, L2 Norm 정규화"
   ]
  },
  {
   "cell_type": "code",
   "execution_count": 32,
   "metadata": {},
   "outputs": [
    {
     "name": "stdout",
     "output_type": "stream",
     "text": [
      "Train on 15000 samples, validate on 10000 samples\n",
      "Epoch 1/20\n",
      "15000/15000 [==============================] - 4s 295us/sample - loss: 0.3896 - accuracy: 0.8503 - val_loss: 0.3211 - val_accuracy: 0.8862\n",
      "Epoch 2/20\n",
      "15000/15000 [==============================] - 3s 233us/sample - loss: 0.2769 - accuracy: 0.9081 - val_loss: 0.3322 - val_accuracy: 0.8814\n",
      "Epoch 3/20\n",
      "15000/15000 [==============================] - 3s 231us/sample - loss: 0.2615 - accuracy: 0.9143 - val_loss: 0.3378 - val_accuracy: 0.8803\n",
      "Epoch 4/20\n",
      "15000/15000 [==============================] - 4s 237us/sample - loss: 0.2484 - accuracy: 0.9228 - val_loss: 0.3458 - val_accuracy: 0.8796\n",
      "Epoch 5/20\n",
      "15000/15000 [==============================] - 3s 233us/sample - loss: 0.2410 - accuracy: 0.9241 - val_loss: 0.3516 - val_accuracy: 0.8769\n",
      "Epoch 6/20\n",
      "15000/15000 [==============================] - 3s 225us/sample - loss: 0.2338 - accuracy: 0.9257 - val_loss: 0.3554 - val_accuracy: 0.8714\n",
      "Epoch 7/20\n",
      "15000/15000 [==============================] - 3s 232us/sample - loss: 0.2242 - accuracy: 0.9279 - val_loss: 0.3594 - val_accuracy: 0.8733\n",
      "Epoch 8/20\n",
      "15000/15000 [==============================] - 4s 237us/sample - loss: 0.2136 - accuracy: 0.9322 - val_loss: 0.3597 - val_accuracy: 0.8726\n",
      "Epoch 9/20\n",
      "15000/15000 [==============================] - 3s 231us/sample - loss: 0.2064 - accuracy: 0.9362 - val_loss: 0.3646 - val_accuracy: 0.8747\n",
      "Epoch 10/20\n",
      "15000/15000 [==============================] - 3s 230us/sample - loss: 0.1980 - accuracy: 0.9389 - val_loss: 0.3916 - val_accuracy: 0.8669\n",
      "Epoch 11/20\n",
      "15000/15000 [==============================] - 4s 234us/sample - loss: 0.1919 - accuracy: 0.9422 - val_loss: 0.4140 - val_accuracy: 0.8588\n",
      "Epoch 12/20\n",
      "15000/15000 [==============================] - 3s 232us/sample - loss: 0.1840 - accuracy: 0.9462 - val_loss: 0.3919 - val_accuracy: 0.8688\n",
      "Epoch 13/20\n",
      "15000/15000 [==============================] - 3s 224us/sample - loss: 0.1752 - accuracy: 0.9499 - val_loss: 0.4247 - val_accuracy: 0.8588\n",
      "Epoch 14/20\n",
      "15000/15000 [==============================] - 3s 229us/sample - loss: 0.1698 - accuracy: 0.9525 - val_loss: 0.4118 - val_accuracy: 0.8681\n",
      "Epoch 15/20\n",
      "15000/15000 [==============================] - 3s 233us/sample - loss: 0.1617 - accuracy: 0.9553 - val_loss: 0.4396 - val_accuracy: 0.8612\n",
      "Epoch 16/20\n",
      "15000/15000 [==============================] - 3s 232us/sample - loss: 0.1550 - accuracy: 0.9604 - val_loss: 0.4342 - val_accuracy: 0.8634\n",
      "Epoch 17/20\n",
      "15000/15000 [==============================] - 3s 229us/sample - loss: 0.1467 - accuracy: 0.9647 - val_loss: 0.4480 - val_accuracy: 0.8650\n",
      "Epoch 18/20\n",
      "15000/15000 [==============================] - 3s 228us/sample - loss: 0.1428 - accuracy: 0.9653 - val_loss: 0.4619 - val_accuracy: 0.8623\n",
      "Epoch 19/20\n",
      "15000/15000 [==============================] - 4s 234us/sample - loss: 0.1369 - accuracy: 0.9675 - val_loss: 0.4648 - val_accuracy: 0.8619\n",
      "Epoch 20/20\n",
      "15000/15000 [==============================] - 3s 233us/sample - loss: 0.1317 - accuracy: 0.9707 - val_loss: 0.4773 - val_accuracy: 0.8566\n"
     ]
    }
   ],
   "source": [
    "from tensorflow.keras import models\n",
    "from tensorflow.keras import layers\n",
    "from tensorflow.keras import regularizers\n",
    "\n",
    "model_l2 = models.Sequential([\n",
    "    layers.Dense(16, kernel_regularizer=regularizers.l2(0.001), activation='relu', input_shape=(10000,)),\n",
    "    layers.Dense(16, kernel_regularizer=regularizers.l2(0.001), activation='relu'),\n",
    "    layers.Dense(1, activation='sigmoid')\n",
    "])\n",
    "\n",
    "model_l2.compile(optimizer='rmsprop',\n",
    "             loss='binary_crossentropy',\n",
    "             metrics=['accuracy'])\n",
    "\n",
    "history_l2 = model_l2.fit(partial_x_train,\n",
    "                    partial_y_train,\n",
    "                    epochs=20,\n",
    "                    batch_size=50,\n",
    "                    validation_data=(x_val, y_val))"
   ]
  },
  {
   "cell_type": "code",
   "execution_count": 35,
   "metadata": {},
   "outputs": [
    {
     "data": {
      "image/png": "[encoded data removed]",
      "text/plain": [
       "<Figure size 432x288 with 1 Axes>"
      ]
     },
     "metadata": {
      "needs_background": "light"
     },
     "output_type": "display_data"
    }
   ],
   "source": [
    "import matplotlib.pyplot as plt\n",
    "\n",
    "model_l2_val_loss = history_l2.history['val_loss']\n",
    "model_l2_val_acc = history_l2.history['val_accuracy']\n",
    "\n",
    "plt.plot(epochs, model_l2_val_acc, 'b', label='L2_Val_acc')\n",
    "plt.plot(epochs, model_l2_val_loss, 'b--', label='L2_val_loss')\n",
    "\n",
    "plt.xlabel('Epochs')\n",
    "plt.ylabel('Accuracy')\n",
    "plt.legend()\n",
    "plt.show()"
   ]
  },
  {
   "cell_type": "markdown",
   "metadata": {},
   "source": [
    "## Dropout 추가"
   ]
  },
  {
   "cell_type": "code",
   "execution_count": 37,
   "metadata": {},
   "outputs": [
    {
     "name": "stdout",
     "output_type": "stream",
     "text": [
      "Train on 15000 samples, validate on 10000 samples\n",
      "Epoch 1/20\n",
      "15000/15000 [==============================] - 5s 306us/sample - loss: 0.5223 - accuracy: 0.7397 - val_loss: 0.3271 - val_accuracy: 0.8808\n",
      "Epoch 2/20\n",
      "15000/15000 [==============================] - 4s 244us/sample - loss: 0.3570 - accuracy: 0.8635 - val_loss: 0.2875 - val_accuracy: 0.8905\n",
      "Epoch 3/20\n",
      "15000/15000 [==============================] - 4s 235us/sample - loss: 0.3000 - accuracy: 0.8925 - val_loss: 0.2951 - val_accuracy: 0.8901\n",
      "Epoch 4/20\n",
      "15000/15000 [==============================] - 4s 238us/sample - loss: 0.2802 - accuracy: 0.9081 - val_loss: 0.3043 - val_accuracy: 0.8922\n",
      "Epoch 5/20\n",
      "15000/15000 [==============================] - 3s 228us/sample - loss: 0.2600 - accuracy: 0.9118 - val_loss: 0.3176 - val_accuracy: 0.8879\n",
      "Epoch 6/20\n",
      "15000/15000 [==============================] - 3s 233us/sample - loss: 0.2391 - accuracy: 0.9182 - val_loss: 0.3239 - val_accuracy: 0.8887\n",
      "Epoch 7/20\n",
      "15000/15000 [==============================] - 3s 230us/sample - loss: 0.2357 - accuracy: 0.9192 - val_loss: 0.3395 - val_accuracy: 0.8853\n",
      "Epoch 8/20\n",
      "15000/15000 [==============================] - 4s 235us/sample - loss: 0.2250 - accuracy: 0.9233 - val_loss: 0.3418 - val_accuracy: 0.8870\n",
      "Epoch 9/20\n",
      "15000/15000 [==============================] - 4s 250us/sample - loss: 0.2138 - accuracy: 0.9242 - val_loss: 0.3574 - val_accuracy: 0.8849\n",
      "Epoch 10/20\n",
      "15000/15000 [==============================] - 3s 230us/sample - loss: 0.2129 - accuracy: 0.9269 - val_loss: 0.3568 - val_accuracy: 0.8846\n",
      "Epoch 11/20\n",
      "15000/15000 [==============================] - 3s 232us/sample - loss: 0.2063 - accuracy: 0.9261 - val_loss: 0.3742 - val_accuracy: 0.8792\n",
      "Epoch 12/20\n",
      "15000/15000 [==============================] - 4s 236us/sample - loss: 0.1966 - accuracy: 0.9281 - val_loss: 0.3903 - val_accuracy: 0.8775\n",
      "Epoch 13/20\n",
      "15000/15000 [==============================] - 4s 242us/sample - loss: 0.1924 - accuracy: 0.9269 - val_loss: 0.4114 - val_accuracy: 0.8755\n",
      "Epoch 14/20\n",
      "15000/15000 [==============================] - 4s 239us/sample - loss: 0.1861 - accuracy: 0.9326 - val_loss: 0.4154 - val_accuracy: 0.8753\n",
      "Epoch 15/20\n",
      "15000/15000 [==============================] - 4s 241us/sample - loss: 0.1905 - accuracy: 0.9271 - val_loss: 0.4457 - val_accuracy: 0.8778\n",
      "Epoch 16/20\n",
      "15000/15000 [==============================] - 4s 234us/sample - loss: 0.1993 - accuracy: 0.9300 - val_loss: 0.4265 - val_accuracy: 0.8788\n",
      "Epoch 17/20\n",
      "15000/15000 [==============================] - 4s 244us/sample - loss: 0.1831 - accuracy: 0.9337 - val_loss: 0.4362 - val_accuracy: 0.8778\n",
      "Epoch 18/20\n",
      "15000/15000 [==============================] - 4s 250us/sample - loss: 0.1846 - accuracy: 0.9312 - val_loss: 0.4498 - val_accuracy: 0.8714\n",
      "Epoch 19/20\n",
      "15000/15000 [==============================] - 4s 241us/sample - loss: 0.1821 - accuracy: 0.9297 - val_loss: 0.4644 - val_accuracy: 0.8721\n",
      "Epoch 20/20\n",
      "15000/15000 [==============================] - 3s 228us/sample - loss: 0.1944 - accuracy: 0.9272 - val_loss: 0.4609 - val_accuracy: 0.8644\n"
     ]
    }
   ],
   "source": [
    "from tensorflow.keras import models\n",
    "from tensorflow.keras import layers\n",
    "from tensorflow.keras import regularizers\n",
    "\n",
    "model_drop = models.Sequential([\n",
    "    layers.Dense(16, activation='relu', input_shape=(10000,)),\n",
    "    layers.Dropout(0.5),\n",
    "    layers.Dense(16, activation='relu'),\n",
    "    layers.Dropout(0.5),\n",
    "    layers.Dense(1, activation='sigmoid')\n",
    "])\n",
    "\n",
    "model_drop.compile(optimizer='rmsprop',\n",
    "             loss='binary_crossentropy',\n",
    "             metrics=['accuracy'])\n",
    "\n",
    "history_drop = model_drop.fit(partial_x_train,\n",
    "                    partial_y_train,\n",
    "                    epochs=20,\n",
    "                    batch_size=50,\n",
    "                    validation_data=(x_val, y_val))"
   ]
  },
  {
   "cell_type": "code",
   "execution_count": 38,
   "metadata": {},
   "outputs": [
    {
     "data": {
      "image/png": "[encoded data removed]",
      "text/plain": [
       "<Figure size 432x288 with 1 Axes>"
      ]
     },
     "metadata": {
      "needs_background": "light"
     },
     "output_type": "display_data"
    }
   ],
   "source": [
    "import matplotlib.pyplot as plt\n",
    "\n",
    "model_drop_val_loss = history_drop.history['val_loss']\n",
    "\n",
    "plt.plot(epochs, model_drop_val_loss, 'b--', label='Drop_val_loss')\n",
    "plt.plot(epochs, val_loss, 'b', label='val_loss')\n",
    "\n",
    "plt.xlabel('Epochs')\n",
    "plt.ylabel('Accuracy')\n",
    "plt.legend()\n",
    "plt.show()"
   ]
  },
  {
   "cell_type": "code",
   "execution_count": null,
   "metadata": {},
   "outputs": [],
   "source": []
  }
 ],
 "metadata": {
  "kernelspec": {
   "display_name": "Python 3",
   "language": "python",
   "name": "python3"
  },
  "language_info": {
   "codemirror_mode": {
    "name": "ipython",
    "version": 3
   },
   "file_extension": ".py",
   "mimetype": "text/x-python",
   "name": "python",
   "nbconvert_exporter": "python",
   "pygments_lexer": "ipython3",
   "version": "3.7.6"
  }
 },
 "nbformat": 4,
 "nbformat_minor": 4
}
