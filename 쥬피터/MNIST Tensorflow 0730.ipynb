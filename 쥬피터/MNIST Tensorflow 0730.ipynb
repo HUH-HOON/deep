{
 "cells": [
  {
   "cell_type": "markdown",
   "metadata": {},
   "source": [
    "# MNIST Tensorflow 2.0 실습"
   ]
  },
  {
   "cell_type": "code",
   "execution_count": 126,
   "metadata": {},
   "outputs": [],
   "source": [
    "import tensorflow as tf\n",
    "import numpy as np\n",
    "import pandas as pd\n",
    "import matplotlib.pyplot as plt\n",
    "import seaborn as sns"
   ]
  },
  {
   "cell_type": "markdown",
   "metadata": {},
   "source": [
    "# 데이터 불러오기"
   ]
  },
  {
   "cell_type": "code",
   "execution_count": 127,
   "metadata": {},
   "outputs": [],
   "source": [
    "from sklearn import datasets\n",
    "from sklearn.model_selection import train_test_split\n",
    "\n",
    "digits = datasets.load_digits()"
   ]
  },
  {
   "cell_type": "code",
   "execution_count": 128,
   "metadata": {},
   "outputs": [],
   "source": [
    "(X,y) = datasets. load_digits(return_X_y=True)\n",
    "X = X.astype(np.float32)\n",
    "y = y.astype(np.int32)\n",
    "\n",
    "X_train, X_test, y_train, y_test = train_test_split(X,y,\n",
    "                                                   test_size=0.2, random_state=1)"
   ]
  },
  {
   "cell_type": "markdown",
   "metadata": {},
   "source": [
    "# Hidden Layer 숫자를 지정"
   ]
  },
  {
   "cell_type": "code",
   "execution_count": 129,
   "metadata": {},
   "outputs": [],
   "source": [
    "n_inputs = 64\n",
    "n_hidden_1 = 25\n",
    "n_hideen_2 = 25\n",
    "n_outputs = 10"
   ]
  },
  {
   "cell_type": "markdown",
   "metadata": {},
   "source": [
    "# 신경망 클래스 빌드"
   ]
  },
  {
   "cell_type": "code",
   "execution_count": 167,
   "metadata": {},
   "outputs": [],
   "source": [
    "class NNLayer(object):\n",
    "    def __init__(self, n_inputs, n_neurons, activation=None):\n",
    "        init = tf.random.normal((n_inputs, n_neurons),\n",
    "                               stddev=2 / np.sqrt(n_inputs))\n",
    "        self.W = tf.Variable(init, name = 'kernel')\n",
    "        self.b = tf.Variable(tf.zeros([n_neurons]), name='bias')\n",
    "        self.activation = activation\n",
    "        \n",
    "    def __call__(self, X):\n",
    "        Z = tf.matmul(X,self.W) + self.b\n",
    "        if self.activation is not None:\n",
    "            return self.activation(Z)\n",
    "        else:\n",
    "            return Z\n",
    "        \n",
    "    def trainable_variables(self):\n",
    "        return [self.W, self.b]"
   ]
  },
  {
   "cell_type": "code",
   "execution_count": 168,
   "metadata": {},
   "outputs": [],
   "source": [
    "class Model (object):\n",
    "    def __init__(self, layers):\n",
    "        self.layers = layers\n",
    "        \n",
    "    def __call__(self, X):\n",
    "        for layer in self.layers:\n",
    "            X = layer(X)\n",
    "        return X\n",
    "    \n",
    "    def trainable_variables(self):\n",
    "        variables= []\n",
    "        for layer in self.layers:\n",
    "            variables.extend(layer.trainable_variables())\n",
    "        return variables"
   ]
  },
  {
   "cell_type": "code",
   "execution_count": 169,
   "metadata": {},
   "outputs": [],
   "source": [
    "# Loss Function\n",
    "\n",
    "loss_function = tf.nn.sparse_softmax_cross_entropy_with_logits"
   ]
  },
  {
   "cell_type": "markdown",
   "metadata": {},
   "source": [
    "## Hidden Layers 만들기"
   ]
  },
  {
   "cell_type": "code",
   "execution_count": 170,
   "metadata": {},
   "outputs": [],
   "source": [
    "model = Model([\n",
    "    NNLayer(n_inputs, n_hidden_1, activation=tf.nn.relu),\n",
    "    NNLayer(n_hidden_1, n_hideen_2, activation=tf.nn.relu),\n",
    "    NNLayer(n_hideen_2, n_outputs)\n",
    "])"
   ]
  },
  {
   "cell_type": "code",
   "execution_count": 171,
   "metadata": {},
   "outputs": [],
   "source": [
    "def loss(model, X, y_true):\n",
    "    y_pred = model(X)\n",
    "    return tf.reduce_mean(tf.dtypes.cast(loss_function(labels=y_true, logits=y_pred),\n",
    "                                       tf.float32, name='loss'))"
   ]
  },
  {
   "cell_type": "code",
   "execution_count": 172,
   "metadata": {},
   "outputs": [
    {
     "name": "stdout",
     "output_type": "stream",
     "text": [
      "Testing loss tf.Tensor(87.61525, shape=(), dtype=float32)\n"
     ]
    }
   ],
   "source": [
    "l = loss(model, X_train, y_train)\n",
    "print('Testing loss', l)"
   ]
  },
  {
   "cell_type": "code",
   "execution_count": 173,
   "metadata": {},
   "outputs": [],
   "source": [
    "# GD Background\n",
    "def grad(model, X, y_true) :\n",
    "    with tf.GradientTape() as tape :\n",
    "        loss_value = loss(model, X, y_true)\n",
    "    return loss_value, tape.gradient(loss_value, model.trainable_variables())"
   ]
  },
  {
   "cell_type": "code",
   "execution_count": 174,
   "metadata": {},
   "outputs": [],
   "source": [
    "optimizer = tf.keras.optimizers.Adam(lr=0.001)"
   ]
  },
  {
   "cell_type": "code",
   "execution_count": 175,
   "metadata": {},
   "outputs": [
    {
     "name": "stdout",
     "output_type": "stream",
     "text": [
      "Step : 0, Initial loss: 87.61524963378906\n"
     ]
    }
   ],
   "source": [
    "loss_value, grads = grad(model, X_train, y_train)\n",
    "print('Step : {}, Initial loss: {}'.format(optimizer.iterations.numpy(),\n",
    "                                          loss_value.numpy()))"
   ]
  },
  {
   "cell_type": "code",
   "execution_count": null,
   "metadata": {},
   "outputs": [],
   "source": []
  },
  {
   "cell_type": "code",
   "execution_count": null,
   "metadata": {},
   "outputs": [],
   "source": []
  }
 ],
 "metadata": {
  "kernelspec": {
   "display_name": "Python 3",
   "language": "python",
   "name": "python3"
  },
  "language_info": {
   "codemirror_mode": {
    "name": "ipython",
    "version": 3
   },
   "file_extension": ".py",
   "mimetype": "text/x-python",
   "name": "python",
   "nbconvert_exporter": "python",
   "pygments_lexer": "ipython3",
   "version": "3.7.6"
  }
 },
 "nbformat": 4,
 "nbformat_minor": 4
}
